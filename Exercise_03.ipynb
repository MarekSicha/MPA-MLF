{
  "cells": [
    {
      "cell_type": "markdown",
      "metadata": {
        "id": "view-in-github",
        "colab_type": "text"
      },
      "source": [
        "<a href=\"https://colab.research.google.com/github/MarekSicha/MPA-MFL/blob/main/Exercise_03.ipynb\" target=\"_parent\"><img src=\"https://colab.research.google.com/assets/colab-badge.svg\" alt=\"Open In Colab\"/></a>"
      ]
    },
    {
      "cell_type": "markdown",
      "source": [
        "# SVM for classification"
      ],
      "metadata": {
        "id": "qpzybxGIwnuz"
      }
    },
    {
      "cell_type": "markdown",
      "source": [
        "Load IRIS dataset, check its contents:\n"
      ],
      "metadata": {
        "id": "eMcpNqv-uk-K"
      }
    },
    {
      "cell_type": "code",
      "execution_count": 1,
      "metadata": {
        "colab": {
          "base_uri": "https://localhost:8080/"
        },
        "id": "0Pw3iTT7-brT",
        "outputId": "6f5bb4a3-2182-4ea0-9a97-4de97d9b5669"
      },
      "outputs": [
        {
          "output_type": "stream",
          "name": "stdout",
          "text": [
            "['sepal length (cm)', 'sepal width (cm)', 'petal length (cm)', 'petal width (cm)']\n",
            "[[5.1 3.5 1.4 0.2]\n",
            " [4.9 3.  1.4 0.2]\n",
            " [4.7 3.2 1.3 0.2]\n",
            " [4.6 3.1 1.5 0.2]\n",
            " [5.  3.6 1.4 0.2]]\n",
            "[0 0 0 0 0]\n"
          ]
        }
      ],
      "source": [
        "from sklearn.datasets import load_iris\n",
        "iris=load_iris()\n",
        "iris.feature_names\n",
        "print(iris.feature_names)\n",
        "print(iris.data[0:5,:])\n",
        "print(iris.target[0:5])\n",
        "#print(iris.data)"
      ]
    },
    {
      "cell_type": "markdown",
      "source": [
        "Split data into training and testing parts:"
      ],
      "metadata": {
        "id": "H5VBL_QBussh"
      }
    },
    {
      "cell_type": "code",
      "source": [
        "from sklearn.model_selection import train_test_split\n",
        "X=iris.data\n",
        "y=iris.target\n",
        "X_train, X_test, y_train, y_test = train_test_split(X,y,test_size=0.2)\n",
        "print(X_train.shape)\n",
        "print(X_test.shape)"
      ],
      "metadata": {
        "id": "rDk-PobDtp7b",
        "outputId": "2f8c4988-370c-4f08-c7c8-2d3058fd487c",
        "colab": {
          "base_uri": "https://localhost:8080/"
        }
      },
      "execution_count": 2,
      "outputs": [
        {
          "output_type": "stream",
          "name": "stdout",
          "text": [
            "(120, 4)\n",
            "(30, 4)\n"
          ]
        }
      ]
    },
    {
      "cell_type": "markdown",
      "source": [
        "Use a Support Vector Machine for classification:\n"
      ],
      "metadata": {
        "id": "3hjR3_OOuzZO"
      }
    },
    {
      "cell_type": "code",
      "source": [
        "from sklearn.svm import SVC\n",
        "SVMmodel=SVC(kernel='linear')\n",
        "SVMmodel.fit(X_train,y_train)\n",
        "SVMmodel.get_params()\n",
        "SVMmodel.score(X_test,y_test)"
      ],
      "metadata": {
        "id": "XKbwK1yht2In",
        "outputId": "ed90a7a9-e0c6-4f26-f30f-5bfa39ec55ee",
        "colab": {
          "base_uri": "https://localhost:8080/"
        }
      },
      "execution_count": 3,
      "outputs": [
        {
          "output_type": "execute_result",
          "data": {
            "text/plain": [
              "1.0"
            ]
          },
          "metadata": {},
          "execution_count": 3
        }
      ]
    },
    {
      "cell_type": "markdown",
      "source": [
        "Let's explore more now. \n",
        "\n",
        "*   Choose only first two features (columns) of iris.data\n",
        "*   SVM is in its basic form a 2-class classifier, so eliminate iris.target =2 from the data\n",
        "\n"
      ],
      "metadata": {
        "id": "XlCNzZsau7gg"
      }
    },
    {
      "cell_type": "code",
      "execution_count": 4,
      "metadata": {
        "id": "nYdW9o1GhwFA"
      },
      "outputs": [],
      "source": [
        "y = iris.target[iris.target!=2]\n",
        "X = iris.data[iris.target!=2,:2]\n",
        "X_train, X_test, y_train, y_test = train_test_split(X,y,test_size=0.2)\n"
      ]
    },
    {
      "cell_type": "markdown",
      "source": [
        "Plot scatterplots of targets 0 and 1 and check the separability of the classes:"
      ],
      "metadata": {
        "id": "Vx6fPm3KvlyH"
      }
    },
    {
      "cell_type": "code",
      "source": [
        "import matplotlib.pyplot as plt \n",
        "plt.scatter(X[y==0,0], X[y==0,1], color ='g')\n",
        "plt.scatter(X[y==1,0], X[y==1,1], color ='r')\n",
        "#plt.scatter(X[y==2,0], X[y==2,1], color ='b')"
      ],
      "metadata": {
        "id": "flQWBul_ZYjK",
        "colab": {
          "base_uri": "https://localhost:8080/",
          "height": 285
        },
        "outputId": "13d87127-8fd6-44bd-a446-9ef6b8840a21"
      },
      "execution_count": 6,
      "outputs": [
        {
          "output_type": "execute_result",
          "data": {
            "text/plain": [
              "<matplotlib.collections.PathCollection at 0x7f4ed32e1f10>"
            ]
          },
          "metadata": {},
          "execution_count": 6
        },
        {
          "output_type": "display_data",
          "data": {
            "text/plain": [
              "<Figure size 432x288 with 1 Axes>"
            ],
            "image/png": "[encoded data removed]"
          },
          "metadata": {
            "needs_background": "light"
          }
        }
      ]
    },
    {
      "cell_type": "markdown",
      "source": [
        "Train and test the SVM classifier, play with regularization parameter C (either use the default value or try e.g. 200)"
      ],
      "metadata": {
        "id": "mu3qUUvHv1TP"
      }
    },
    {
      "cell_type": "code",
      "execution_count": 7,
      "metadata": {
        "id": "HOo58lvZo_Lf",
        "colab": {
          "base_uri": "https://localhost:8080/"
        },
        "outputId": "02c73fd9-ce2b-41f5-f3a2-a73242a6cab4"
      },
      "outputs": [
        {
          "output_type": "execute_result",
          "data": {
            "text/plain": [
              "1.0"
            ]
          },
          "metadata": {},
          "execution_count": 7
        }
      ],
      "source": [
        "from sklearn.svm import SVC\n",
        "SVMmodel=SVC(C= 200, kernel='linear')\n",
        "SVMmodel.fit(X_train,y_train)\n",
        "SVMmodel.get_params()\n",
        "SVMmodel.score(X_test,y_test)"
      ]
    },
    {
      "cell_type": "markdown",
      "source": [],
      "metadata": {
        "id": "vpOHSYlCwdED"
      }
    },
    {
      "cell_type": "markdown",
      "source": [
        "Show support vectors in the 2D plot, plot the decision line from equation [w0 w1]*[x0 x1] + b = 0:"
      ],
      "metadata": {
        "id": "MshE_3pPwceK"
      }
    },
    {
      "cell_type": "code",
      "execution_count": 12,
      "metadata": {
        "colab": {
          "base_uri": "https://localhost:8080/",
          "height": 265
        },
        "id": "MkZj_qEMvHeY",
        "outputId": "a028b9c2-2259-41da-90b7-57835596ab80"
      },
      "outputs": [
        {
          "output_type": "display_data",
          "data": {
            "text/plain": [
              "<Figure size 432x288 with 1 Axes>"
            ],
            "image/png": "[encoded data removed]"
          },
          "metadata": {
            "needs_background": "light"
          }
        }
      ],
      "source": [
        "import numpy as np\n",
        "supvectors=SVMmodel.support_vectors_\n",
        "# Plot the support vectors here\n",
        "plt.scatter(X[y==0,0], X[y==0,1], color ='g')\n",
        "plt.scatter(X[y==1,0], X[y==1,1], color ='orange')\n",
        "plt.scatter(supvectors[:,0], supvectors[:,1], color ='b')\n",
        "\n",
        "#Separating line coefficients:\n",
        "W=SVMmodel.coef_\n",
        "b=SVMmodel.intercept_\n",
        "\n",
        "x_points = np.linspace(min(X_train[:,0]),max(X_train[:,0]))\n",
        "y_points = -(W[:,0] / W[:,1]) * x_points - b / W[:,1]  # getting corresponding y-points\n",
        "# Plotting a red hyperplane\n",
        "plt.plot(x_points, y_points, c='r');"
      ]
    },
    {
      "cell_type": "markdown",
      "metadata": {
        "id": "TR9Kkzlrx6Pl"
      },
      "source": [
        "# Anomaly detection via SVM"
      ]
    },
    {
      "cell_type": "markdown",
      "source": [
        "Import one-class SVM and generate data (Gaussian blobs in 2D-plane):"
      ],
      "metadata": {
        "id": "D6e44AnXmxZi"
      }
    },
    {
      "cell_type": "code",
      "source": [
        "from sklearn.svm import OneClassSVM\n",
        "from sklearn.datasets import make_blobs\n",
        "from numpy import quantile, where, random\n",
        "\n",
        "random.seed(11)\n",
        "x, _ = make_blobs(n_samples=300, centers=1, cluster_std=.3, center_box=(4, 4))\n",
        "\n",
        "plt.scatter(x[:,0], x[:,1])\n",
        "plt.show()\n",
        "\n"
      ],
      "metadata": {
        "colab": {
          "base_uri": "https://localhost:8080/",
          "height": 265
        },
        "id": "kA9NeGTXm2Ry",
        "outputId": "98a12b0b-a8ae-405c-9e9f-f6b14e9afa3f"
      },
      "execution_count": 28,
      "outputs": [
        {
          "output_type": "display_data",
          "data": {
            "text/plain": [
              "<Figure size 432x288 with 1 Axes>"
            ],
            "image/png": "[encoded data removed]"
          },
          "metadata": {
            "needs_background": "light"
          }
        }
      ]
    },
    {
      "cell_type": "markdown",
      "source": [
        "Train one-class SVM and plot the outliers (outputs of prediction being equal to -1)"
      ],
      "metadata": {
        "id": "HrWy_Y9Sw41V"
      }
    },
    {
      "cell_type": "code",
      "source": [
        "SVMmodelOne = OneClassSVM(kernel='rbf', gamma=0.001, nu=0.03)\n",
        "\n",
        "\n",
        "SVMmodelOne.fit(x)\n",
        "pred = SVMmodelOne.predict(x)\n",
        "anom_index = where(pred==-1)\n",
        "values = x[anom_index]\n",
        "\n",
        "plt.scatter(x[:,0], x[:,1])\n",
        "plt.scatter(values[:,0], values[:,1], color='red')\n",
        "\n",
        "plt.axis('equal')\n",
        "plt.show()\n",
        "\n",
        "x_points = np.linspace(min(X_train[:,0]),max(X_train[:,0]))\n",
        "# getting corresponding y-points\n",
        "# Plotting a red hyperplane\n"
      ],
      "metadata": {
        "id": "esEEn-KqoZic",
        "outputId": "aaf55573-3110-4fd4-b060-51ba4c29311c",
        "colab": {
          "base_uri": "https://localhost:8080/",
          "height": 265
        }
      },
      "execution_count": 29,
      "outputs": [
        {
          "output_type": "display_data",
          "data": {
            "text/plain": [
              "<Figure size 432x288 with 1 Axes>"
            ],
            "image/png": "[encoded data removed]"
          },
          "metadata": {
            "needs_background": "light"
          }
        }
      ]
    },
    {
      "cell_type": "markdown",
      "source": [
        "Plot the support vectors:"
      ],
      "metadata": {
        "id": "kIZmSPRGxNRK"
      }
    },
    {
      "cell_type": "code",
      "source": [
        "support_vectors=SVMmodelOne.support_vectors_\n",
        "plt.scatter(x[:,0], x[:,1])\n",
        "plt.scatter(support_vectors[:,0], support_vectors[:,1], color='red')\n",
        "plt.axis('equal')\n",
        "plt.show()"
      ],
      "metadata": {
        "id": "RJcyvEHKsR8T",
        "colab": {
          "base_uri": "https://localhost:8080/",
          "height": 265
        },
        "outputId": "a153e215-2114-4333-92e9-0ccbc82800fd"
      },
      "execution_count": 30,
      "outputs": [
        {
          "output_type": "display_data",
          "data": {
            "text/plain": [
              "<Figure size 432x288 with 1 Axes>"
            ],
            "image/png": "[encoded data removed]"
          },
          "metadata": {
            "needs_background": "light"
          }
        }
      ]
    },
    {
      "cell_type": "markdown",
      "source": [
        "What if we want to have a control what is outlier? Use e.g. 5% \"quantile\" to mark the outliers. Every point with lower score than threshold will be an outlier."
      ],
      "metadata": {
        "id": "VbEUVj8RxS1p"
      }
    },
    {
      "cell_type": "code",
      "source": [
        "scores = SVMmodelOne.score_samples(x)\n",
        "\n",
        "thresh = quantile(scores, 0.5)\n",
        "print(thresh)\n",
        "index = where(scores<=thresh)\n",
        "values = x[index]\n",
        "\n",
        "plt.scatter(x[:,0], x[:,1])\n",
        "plt.scatter(values[:,0], values[:,1], color='red')\n",
        "plt.axis('equal')\n",
        "plt.show()"
      ],
      "metadata": {
        "id": "DQzxxUePs6sN",
        "outputId": "b984ebdc-e7b9-429f-cabd-bfa971c65722",
        "colab": {
          "base_uri": "https://localhost:8080/",
          "height": 282
        }
      },
      "execution_count": 31,
      "outputs": [
        {
          "output_type": "stream",
          "name": "stdout",
          "text": [
            "8.99269220494228\n"
          ]
        },
        {
          "output_type": "display_data",
          "data": {
            "text/plain": [
              "<Figure size 432x288 with 1 Axes>"
            ],
            "image/png": "[encoded data removed]"
          },
          "metadata": {
            "needs_background": "light"
          }
        }
      ]
    }
  ],
  "metadata": {
    "colab": {
      "provenance": [],
      "include_colab_link": true
    },
    "kernelspec": {
      "display_name": "Python 3",
      "name": "python3"
    },
    "language_info": {
      "name": "python"
    }
  },
  "nbformat": 4,
  "nbformat_minor": 0
}