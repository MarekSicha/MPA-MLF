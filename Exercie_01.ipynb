{
  "nbformat": 4,
  "nbformat_minor": 0,
  "metadata": {
    "colab": {
      "provenance": [],
      "include_colab_link": true
    },
    "kernelspec": {
      "name": "python3",
      "display_name": "Python 3"
    },
    "language_info": {
      "name": "python"
    },
    "gpuClass": "standard"
  },
  "cells": [
    {
      "cell_type": "markdown",
      "metadata": {
        "id": "view-in-github",
        "colab_type": "text"
      },
      "source": [
        "<a href=\"https://colab.research.google.com/github/MarekSicha/MPA-MFL/blob/main/Exercie_01.ipynb\" target=\"_parent\"><img src=\"https://colab.research.google.com/assets/colab-badge.svg\" alt=\"Open In Colab\"/></a>"
      ]
    },
    {
      "cell_type": "markdown",
      "source": [
        "# Exercise 1.4.1"
      ],
      "metadata": {
        "id": "z2Jdst0Khkeh"
      }
    },
    {
      "cell_type": "markdown",
      "source": [
        "print the following pattern (using loops)\n",
        "\n",
        "![image.png](data:image/png;base64,iVBORw0KGgoAAAANSUhEUgAAAE8AAACwCAYAAABO8DNKAAAEBElEQVR4nO2csXGrQBRF7/5xEVYnUuYOIFTo0CX8DqAEdwChS3CGOkFd7A+QJbSgP4a7gt3lnhkHZiSzPoCkdzSDsdZaiFn8WXsBMSN5BHfyznUOY3LU597GUzncJjqsQ1PAIqts2/1mC8AWjfsoYa21xlr3DeOE0hyAxuLt2+CABvbvfp0jGzgvw017vFcZdgcDIEPVStxDxk/I7nKFrtf/MiqvKWCB7kf+HjOU1xQWyGzV/kgsrPyN48hrbZX1L9fu8s2qdvGFxcCdvNEzrSl0+T5g5KOK+C0azwgkj0DyCCSPQPIIJI9A8ggkj0DyCDxm+BNKY2DKU/8vos7dbQnhzmtUhm8rm/Ue31ZZ72+lh/cMf65z7Ooj2k/gY1fj2H7h+Or5iIfCmNG2yi4xtOt607hU6A2U6Kdk+E7+HPFx4T/DX173ACT9emet9wzfK9EXiSlXaL8Zvife2p/LN93vQPxl+NEz7XIwEr18leEJNJ4RSB6B5BFIHoHkEUgegeQRSB6B5BEEk+FPpYExJe6eXeeDbUHhzmvrZXgnSrSVzQJvgiM97yasKaYH0auwOf/89TmdyNBzVnAZ/hZiw09Z4WX4iCJqYBn+8ro3+6xflqAy/K08xxFRA8rwzr6cd+4QCSTDjz8u9K8wleEJNJ4RSB6B5BFIHoHkEUgegeQRSB6B5BGkkeHPNXJjkN8vHOVgm2fceS3aDO9EiTkVfCpJZfjreptikRKdVobvhdglSnRyGX7J25mkleEv7XHuWT+VhDJ8r0QvdDuTZDK8u6/7Tw3PIY0MP7rG599MTBmeQOMZgeQRSB6B5BFIHoHkEUgegeQRSB6BMjyz7uGYuMEMP3PdyvDEupXhb3uevG5l+LtdT1u3Mvx119PXrQxPrFsZnli3MjyxbmV4Ao1nBJJHIHkEkkcgeQSSRyB5BJJHIHkEyvAMwzFxgxl+JsrwBMrwBMrwBMrwBMrwBMrwBMrwBMrwBBrPCCSPQPIIJI9A8ggkj0DyCCSPQPII0sjwazEcEyPN8CuQVIZfmrQy/MIkl+GXJK0MvzAJZfjlSSbDr0EaGX4llOEJNJ4RSB6B5BFIHoHkEUgegeQRSB6B5BEEk+GjxJ3X1svw8TEy255QmgPQWLx9GxzQwP7d//pgnOscu/qI9hP42NU4tl84vno+4qEwZnTNDB8T4WX4iAgsw8dFUBk+NgLK8PERSIaPE2V4Ao1nBJJHIHkEkkcgeQSSRyB5BJJHIHkEHjP8BnHnNSrDbwzvGX5LvAw37fFeZdgdDIAMVStxDxk/IZ9/c4MU8J/hN4TnDL8t/Gb4jeEvw28QZXgCjWcEkkcgeQSSRyB5BJJHIHkEkkcgeQSSRyB5BP8A6GfFYXaAVpYAAAAASUVORK5CYII=)"
      ],
      "metadata": {
        "id": "4mKrJYuxiFmd"
      }
    },
    {
      "cell_type": "code",
      "source": [
        "n = 5\n",
        "for i in range(n):\n",
        "    for j in range(i+1):\n",
        "        print(\"X\", end=\" \")\n",
        "    print(\"\\r\")\n",
        "\n",
        "for i in range(n-1, 0, -1):\n",
        "    for j in range(0, i):\n",
        "        print(\"X\", end=\" \")\n",
        "    print(\"\\r\")"
      ],
      "metadata": {
        "id": "XN8yRpQ9ByrG",
        "outputId": "95642857-c76f-424b-b902-e2e228ddcb7f",
        "colab": {
          "base_uri": "https://localhost:8080/"
        }
      },
      "execution_count": 4,
      "outputs": [
        {
          "output_type": "stream",
          "name": "stdout",
          "text": [
            "X \r\n",
            "X X \r\n",
            "X X X \r\n",
            "X X X X \r\n",
            "X X X X X \r\n",
            "X X X X \r\n",
            "X X X \r\n",
            "X X \r\n",
            "X \r\n"
          ]
        }
      ]
    },
    {
      "cell_type": "markdown",
      "source": [
        "# Exercise 1.4.2"
      ],
      "metadata": {
        "id": "nOAWuH8qp79q"
      }
    },
    {
      "cell_type": "markdown",
      "source": [
        "write a script that will sum all numbers in the following string"
      ],
      "metadata": {
        "id": "Zz2j3lx6qH2K"
      }
    },
    {
      "cell_type": "code",
      "source": [
        "input_str = \"n45as29@#8ss6\"\n",
        "sum = 0\n",
        "for i in input_str:\n",
        "  if (i.isdigit()):\n",
        "    sum += int(i)\n",
        "print(sum)"
      ],
      "metadata": {
        "id": "15fJxcCsqBH7",
        "colab": {
          "base_uri": "https://localhost:8080/"
        },
        "outputId": "0b91ffb1-61d1-4730-89ad-43fbe32f1c2e"
      },
      "execution_count": 84,
      "outputs": [
        {
          "output_type": "stream",
          "name": "stdout",
          "text": [
            "34\n"
          ]
        }
      ]
    },
    {
      "cell_type": "markdown",
      "source": [
        "# Exercise 1.4.3"
      ],
      "metadata": {
        "id": "NjNQc3AXMPmi"
      }
    },
    {
      "cell_type": "markdown",
      "source": [
        "write script that will convert an arbitary integer to binary number (number will be represented as string with only *0* and *1*). Avoid using *bin()* function or any other pythons default functions"
      ],
      "metadata": {
        "id": "-algCktYMZ4Q"
      }
    },
    {
      "cell_type": "code",
      "source": [
        "def decimal_to_binary(decimal_number: int) -> str:\n",
        "    binary_number = ''\n",
        "    while decimal_number > 0:\n",
        "        binary_number += str(decimal_number % 2)\n",
        "        decimal_number = decimal_number // 2\n",
        "    return binary_number\n",
        "decimal_to_binary(5)"
      ],
      "metadata": {
        "id": "3jOfppJ6MVlG",
        "colab": {
          "base_uri": "https://localhost:8080/",
          "height": 35
        },
        "outputId": "dcf32a76-f76d-484d-87bd-e2638f53b906"
      },
      "execution_count": 89,
      "outputs": [
        {
          "output_type": "execute_result",
          "data": {
            "text/plain": [
              "'101'"
            ],
            "application/vnd.google.colaboratory.intrinsic+json": {
              "type": "string"
            }
          },
          "metadata": {},
          "execution_count": 89
        }
      ]
    },
    {
      "cell_type": "markdown",
      "source": [
        "# Exercise 1.5-1:"
      ],
      "metadata": {
        "id": "pCSSAjAj0ZlY"
      }
    },
    {
      "cell_type": "markdown",
      "source": [
        "The Fibonacci Sequence is a series of numbers. The next number is found by adding up the two numbers before it. The first two numbers are 0 and 1. For example, 0, 1, 1, 2, 3, 5, 8, 13. The next number in this series above is 8 + 13 = 21"
      ],
      "metadata": {
        "id": "JPgVzgDG1pwt"
      }
    },
    {
      "cell_type": "markdown",
      "source": [
        "\n",
        "\n",
        "Create a function that takes an integer as an input and return a list that contains all fibonaci numbers smaller than input integer\n",
        "\n",
        "example:\n",
        "\n",
        "*print(fibonaci(10))*\n",
        "\n",
        "[0, 1, 1, 2, 3, 5, 8]\n"
      ],
      "metadata": {
        "id": "uEHzKT7k1sfr"
      }
    },
    {
      "cell_type": "code",
      "source": [
        "def fibonaci(upper_threshold: int) -> list:\n",
        "    numbers = [0, 1]\n",
        "    while numbers[-1] < upper_threshold:\n",
        "        numbers.append(numbers[-1] + numbers[-2])\n",
        "    return numbers[:-1]\n",
        "\n",
        "print(fibonaci(2))"
      ],
      "metadata": {
        "id": "Lu9nP9hG2VzU",
        "colab": {
          "base_uri": "https://localhost:8080/"
        },
        "outputId": "6f3acdbe-7c2b-4896-c8b5-a5c3652ac5a4"
      },
      "execution_count": 67,
      "outputs": [
        {
          "output_type": "stream",
          "name": "stdout",
          "text": [
            "[0, 1, 1]\n"
          ]
        }
      ]
    },
    {
      "cell_type": "markdown",
      "source": [
        "# Exercise 1.5-2:"
      ],
      "metadata": {
        "id": "eVT1qWQGgXm2"
      }
    },
    {
      "cell_type": "markdown",
      "source": [
        "### Basic:"
      ],
      "metadata": {
        "id": "2hv2gSRIzI7-"
      }
    },
    {
      "cell_type": "markdown",
      "source": [
        "implement fucntion *display_as_digi* that will print an arbitary integer in segment display style\n",
        "\n",
        "example:\n",
        "\n",
        "*display_as_digi(588)*\n",
        "\n",
        "\n",
        "![digit.png](data:image/png;base64,iVBORw0KGgoAAAANSUhEUgAAAGgAAABcCAIAAAANlWdNAAAAAXNSR0IArs4c6QAAAARnQU1BAACxjwv8YQUAAAAJcEhZcwAADsMAAA7DAcdvqGQAAAUQSURBVHhe7ZrBUSw7DEV/KuRBEKRABD8BAiAA9qwJgBzIgS1btmz5p+Y2Kle3pbY0s/s6i1d2j+ZKunbPK7v457cp0cYVaeOKtHFF2rgic+M+Pz/v7+/f3t40fX5+fnh4+P7+/vj4uLu7418e/vz8/HuBgQXwfPfdIymRMWD33SkpEa9NTWPcHYcuokgzGOVIoykDK0WVkVgDK8UjJUIYwUw1CFyDrIjX5inRq0qap6cn0u9qpayXl5fHx0fybY8ulfHk9fWVeBkRkxIhhufE863tkU9WxGszJjLOVm+b/6FFs8U0bPW2eUhWhMj1HZES8dqMiYxDS+s2tqc07+/vVDAukdZTz0/by4oQQ/zids6KTNs8JfqNU2LqYGCrh7oSWwAPZYQSUwdcYl1SInxKDJFjgEdWxGvzlLlxyI3/eZFeO5989gqoApJ9fX0xAJ7wnE+JsYqPpETUsKmpMM87qa2LeG1qGhO9qk1AG1ekjSvSxhVp44q0cUXauCJtXJE2rkgbV2RunA4rdrLhLMKRhYOLplcyHnR2h6Qju4DdIenIWOquiyPXtOnuOIrTwY3BDV0T1CpNBoFrgjCCidQgcA1kNBZoELgmym1GrypZCzd8i9Db8SLTg5jpHeQUmid48Q4Kam1GxtnqbfObYvtom59B5PqOsH20zUNqbUbGoVW44VtBtR4vMj2IIf7Ki0yPWpvRb5wSUweDxdVbhBJlgWXZPpihvUmk7I7bG2NwBPTco9zm3Djkyjd8p9CVqanPwDu5Zv2rMM87qQEDpqQgUeDdNW1Gr2oT0MYVaeOKtHFF2rgibVyRNq5IG1ekjSvSxhVp44rMjdMpz46EHOJ0nBwPd+PB0AJ4vvvukZTIGLD77pSUiNempjHujkMXUaQZjHKk0ZSBlaLKSKyBleKREiGMYKYaBK5BVsRr85ToVSVN/ymrR2Scrd42/0OLZotp2Opt85CsCJHrOyIl4rUZExmH1vFqVGnW/wp1SlaEGOIXt3NWZNrmKdFvnBJTBwNbPdSV2AJ4KCOUmDrgEuuSEuFTYogcAzyyIl6bp8yNQ256NUo+ewVUAcn6T1mbBG1ckTauSBtXpI0r0sYVaeOKtHFF2rgibVyR2xjHYYUzDScbxjroeKciGA86u0PSkV3A7pB0JFXJLmD87im3MU7tkViDoFZBgEpkYKZ46KRJpAaBa5CtBDWdTxmsuwY3e1VJOb0+9KC340WmBzFEXnmR6YG5N77IzGKrt81DbB9t8zOIXN8RqUpsk27zNW5mnDbFlReZHsQQf+VFpgeW3fIiM4WMUGLqOF09ImUBjpy2p71J5JjFI1uJFYDdDBY3KdzAONUKDJiSm9ckqJiu7D3SdwPv5Jqp0WfhIlOfHpEa/2pK5PoLfsvfuP8VbVyRNq5IG1ekjSvSxhVp44q0cUXauCJtXJG5cTqs2MmGs4hOReMZZTzfWADPd989khIZA3bfnZIS8drUNMbdcegiijSDUY40mjKwUlQZiTWwUjxSIoQRzFSDwDXIinhtnhK9qqTpv8j0iIyz1dvmf2jRbDENW71tHpIVIXJ9R6REvDZjIuPQOt7wKc3xDlLreeVFpidCDPGL2zkrMm3zlOg3Tompg4GtHupKbAE8lBFKTB1wiXVJifApMUSOAR5ZEa/NU+bGITe94SOfvQKqgGT9F5lNgjauSBtXpI0r0sYVaeOKtHFF2rgibVyRNq5IG1fi9/c/pr/ZCf8bc3sAAAAASUVORK5CYII=)"
      ],
      "metadata": {
        "id": "BN8bKPh6y7Dm"
      }
    },
    {
      "cell_type": "code",
      "source": [
        "list_of_numbers = {\n",
        "    '0': ('xxx', 'x x', 'x x', 'x x', 'xxx'),\n",
        "    '1': ('  x', '  x', '  x', '  x', '  x'),\n",
        "    '2': ('xxx', '  x', 'xxx', 'x  ', 'xxx'),\n",
        "    '3': ('xxx', '  x', 'xxx', '  x', 'xxx'),\n",
        "    '4': ('x x', 'x x', 'xxx', '  x', '  x'),\n",
        "    '5': ('xxx', 'x  ', 'xxx', '  x', 'xxx'),\n",
        "    '6': ('xxx', 'x  ', 'xxx', 'x x', 'xxx'),\n",
        "    '7': ('xxx', '  x', '  x', '  x', '  x'),\n",
        "    '8': ('xxx', 'x x', 'xxx', 'x x', 'xxx'),\n",
        "    '9': ('xxx', 'x x', 'xxx', '  x', 'xxx'),\n",
        "    '.': ('   ', '   ', '   ', '   ', 'x  '),\n",
        "}\n",
        "\n",
        "def display_as_digi(number: int) -> None:\n",
        "    digits = [list_of_numbers[digit] for digit in str(number)]\n",
        "    for i in range(5):\n",
        "        print(\"  \".join(segment[i] for segment in digits))\n",
        "\n",
        "display_as_digi(588.66)\n",
        "        "
      ],
      "metadata": {
        "colab": {
          "base_uri": "https://localhost:8080/"
        },
        "id": "5F0_gme8OsJL",
        "outputId": "bf2cfcc5-c6d5-4938-d10e-dd948f22fe1e"
      },
      "execution_count": 54,
      "outputs": [
        {
          "output_type": "stream",
          "name": "stdout",
          "text": [
            "xxx  xxx  xxx       xxx  xxx\n",
            "x    x x  x x       x    x  \n",
            "xxx  xxx  xxx       xxx  xxx\n",
            "  x  x x  x x       x x  x x\n",
            "xxx  xxx  xxx  x    xxx  xxx\n"
          ]
        }
      ]
    },
    {
      "cell_type": "markdown",
      "source": [
        "### Extension"
      ],
      "metadata": {
        "id": "__gcTtmby5Yu"
      }
    },
    {
      "cell_type": "markdown",
      "source": [
        "extend our sement number printer to be able to print decimal numbers"
      ],
      "metadata": {
        "id": "ek8Z7Agx0H-Y"
      }
    },
    {
      "cell_type": "markdown",
      "source": [],
      "metadata": {
        "id": "Z4dRQMiI0yW4"
      }
    },
    {
      "cell_type": "markdown",
      "source": [
        "# Exercise 2"
      ],
      "metadata": {
        "id": "Tu7yI05aT1y5"
      }
    },
    {
      "cell_type": "markdown",
      "source": [
        "### 1\n"
      ],
      "metadata": {
        "id": "7GaHLE8Zh8aJ"
      }
    },
    {
      "cell_type": "markdown",
      "source": [
        "- Create a numpy array with shape 5x5, that contains number from 25..to 0\n",
        "- create a function that takes an arbitary numpy array as an input and sets all numbers smaller than user defined threshold to 0\n",
        "- test your function on your array\n",
        "- make one implementation using loops and one withnout using loops, compare execution time with *time* library"
      ],
      "metadata": {
        "id": "ZIyURJ6HZ5Rb"
      }
    },
    {
      "cell_type": "code",
      "source": [
        "import numpy as np\n",
        "import time\n",
        "treshold = 10\n",
        "randnums= np.random.randint(0,25, size=(5,5))\n",
        "start = time.time()\n",
        "randnums_new = np.where(randnums < treshold, 0, randnums)\n",
        "end = time.time()\n",
        "print(end - start)\n",
        "print(randnums_new)\n",
        "\n",
        "start = time.time()\n",
        "for i in range(len(randnums)):\n",
        "    for j in range(len(randnums[i])):\n",
        "        if randnums[i][j] < treshold:\n",
        "            randnums[i][j] = 0\n",
        "end = time.time()\n",
        "print(end - start)\n",
        "print(randnums)"
      ],
      "metadata": {
        "colab": {
          "base_uri": "https://localhost:8080/"
        },
        "id": "Trdho951QgJR",
        "outputId": "d6335ef4-e8ae-4e80-cc96-499cd9685a9f"
      },
      "execution_count": 65,
      "outputs": [
        {
          "output_type": "stream",
          "name": "stdout",
          "text": [
            "0.00012826919555664062\n",
            "[[ 0 18  0 11  0]\n",
            " [11 16 14 18 13]\n",
            " [12 24 23 10 20]\n",
            " [22  0  0 13 23]\n",
            " [13 11 14 22 23]]\n",
            "0.0002048015594482422\n",
            "[[ 0 18  0 11  0]\n",
            " [11 16 14 18 13]\n",
            " [12 24 23 10 20]\n",
            " [22  0  0 13 23]\n",
            " [13 11 14 22 23]]\n"
          ]
        }
      ]
    },
    {
      "cell_type": "markdown",
      "source": [
        "### 2\n",
        " - lets return to our digi_diplay, create a function that will take an arbitary intiger an an input and display it as an binary image in segment display style.\n",
        "*hint: to show an image use library matplotlib.pyplot, also you will maybe find usefull function np.concatenate*"
      ],
      "metadata": {
        "id": "tl_vFRrwiArx"
      }
    },
    {
      "cell_type": "code",
      "source": [
        "def show_in_digi(input_integer: int) -> None:\n",
        "  pass"
      ],
      "metadata": {
        "id": "ha5_BgE0mxoY"
      },
      "execution_count": null,
      "outputs": []
    },
    {
      "cell_type": "markdown",
      "source": [
        "show_in_digi(5289) will show:\n"
      ],
      "metadata": {
        "id": "pcOmCLI1muSr"
      }
    },
    {
      "cell_type": "markdown",
      "source": [
        "![image.png](data:image/png;base64,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)"
      ],
      "metadata": {
        "id": "aHN2vh9dm-S5"
      }
    },
    {
      "cell_type": "markdown",
      "source": [
        "# Exercise 3"
      ],
      "metadata": {
        "id": "6s8LqeO6fuS1"
      }
    },
    {
      "cell_type": "markdown",
      "source": [
        "Use google colab dataset loaded in the lecture and do following operations:"
      ],
      "metadata": {
        "id": "9MV_c3_3f9V0"
      }
    },
    {
      "cell_type": "markdown",
      "source": [
        "- check what *dataset.describe()* does"
      ],
      "metadata": {
        "id": "ZctJOSglgYjc"
      }
    },
    {
      "cell_type": "markdown",
      "source": [
        "- display all rows where *total_bedrooms* is bigger than 310"
      ],
      "metadata": {
        "id": "ANvmvaQzpp2k"
      }
    },
    {
      "cell_type": "markdown",
      "source": [
        "- drop also first and last row and also "
      ],
      "metadata": {
        "id": "AJnkbsLDpcrh"
      }
    },
    {
      "cell_type": "markdown",
      "source": [
        "- save mean of values in *households* columns to variable, using *matplotlib* display number show number of household in graph (x axis would be ID, y axis - numbers of households) as dots with the same colour, display also mean as a single line in the graph with different colour as dots is"
      ],
      "metadata": {
        "id": "jjj3NIPGheCC"
      }
    },
    {
      "cell_type": "markdown",
      "source": [
        " - check if any of the columns contains NaN values, if yes replace the NaN values with arithmetic mean of whole dataset "
      ],
      "metadata": {
        "id": "Ga-8a7TFgFDT"
      }
    },
    {
      "cell_type": "markdown",
      "source": [
        " - display *lat* and *long* into plot, *lat* would be on *x* axis and *long* on *y* axis "
      ],
      "metadata": {
        "id": "L6_0MzSRqYK9"
      }
    },
    {
      "cell_type": "markdown",
      "source": [
        "- choose two arbitary columns and normalize all values inside using min-max normalization:"
      ],
      "metadata": {
        "id": "Eba6rEqcixWl"
      }
    },
    {
      "cell_type": "markdown",
      "source": [
        "- Create a Correlation Matrix from all columns"
      ],
      "metadata": {
        "id": "nZ5hAWKlpVKK"
      }
    },
    {
      "cell_type": "code",
      "source": [
        "import pandas as pd\n",
        "dataset = pd.read_csv('sample_data/california_housing_test.csv')\n",
        "dataset.describe()"
      ],
      "metadata": {
        "id": "xt8IQzHifulb",
        "colab": {
          "base_uri": "https://localhost:8080/",
          "height": 300
        },
        "outputId": "2d18d25c-6fa2-45cf-e278-d4b40efb48e9"
      },
      "execution_count": 130,
      "outputs": [
        {
          "output_type": "execute_result",
          "data": {
            "text/plain": [
              "         longitude    latitude  housing_median_age   total_rooms  \\\n",
              "count  3000.000000  3000.00000         3000.000000   3000.000000   \n",
              "mean   -119.589200    35.63539           28.845333   2599.578667   \n",
              "std       1.994936     2.12967           12.555396   2155.593332   \n",
              "min    -124.180000    32.56000            1.000000      6.000000   \n",
              "25%    -121.810000    33.93000           18.000000   1401.000000   \n",
              "50%    -118.485000    34.27000           29.000000   2106.000000   \n",
              "75%    -118.020000    37.69000           37.000000   3129.000000   \n",
              "max    -114.490000    41.92000           52.000000  30450.000000   \n",
              "\n",
              "       total_bedrooms    population  households  median_income  \\\n",
              "count     3000.000000   3000.000000  3000.00000    3000.000000   \n",
              "mean       529.950667   1402.798667   489.91200       3.807272   \n",
              "std        415.654368   1030.543012   365.42271       1.854512   \n",
              "min          2.000000      5.000000     2.00000       0.499900   \n",
              "25%        291.000000    780.000000   273.00000       2.544000   \n",
              "50%        437.000000   1155.000000   409.50000       3.487150   \n",
              "75%        636.000000   1742.750000   597.25000       4.656475   \n",
              "max       5419.000000  11935.000000  4930.00000      15.000100   \n",
              "\n",
              "       median_house_value  \n",
              "count          3000.00000  \n",
              "mean         205846.27500  \n",
              "std          113119.68747  \n",
              "min           22500.00000  \n",
              "25%          121200.00000  \n",
              "50%          177650.00000  \n",
              "75%          263975.00000  \n",
              "max          500001.00000  "
            ],
            "text/html": [
              "\n",
              "  <div id=\"df-591a385b-e2de-4637-a859-0697ff6a04ce\">\n",
              "    <div class=\"colab-df-container\">\n",
              "      <div>\n",
              "<style scoped>\n",
              "    .dataframe tbody tr th:only-of-type {\n",
              "        vertical-align: middle;\n",
              "    }\n",
              "\n",
              "    .dataframe tbody tr th {\n",
              "        vertical-align: top;\n",
              "    }\n",
              "\n",
              "    .dataframe thead th {\n",
              "        text-align: right;\n",
              "    }\n",
              "</style>\n",
              "<table border=\"1\" class=\"dataframe\">\n",
              "  <thead>\n",
              "    <tr style=\"text-align: right;\">\n",
              "      <th></th>\n",
              "      <th>longitude</th>\n",
              "      <th>latitude</th>\n",
              "      <th>housing_median_age</th>\n",
              "      <th>total_rooms</th>\n",
              "      <th>total_bedrooms</th>\n",
              "      <th>population</th>\n",
              "      <th>households</th>\n",
              "      <th>median_income</th>\n",
              "      <th>median_house_value</th>\n",
              "    </tr>\n",
              "  </thead>\n",
              "  <tbody>\n",
              "    <tr>\n",
              "      <th>count</th>\n",
              "      <td>3000.000000</td>\n",
              "      <td>3000.00000</td>\n",
              "      <td>3000.000000</td>\n",
              "      <td>3000.000000</td>\n",
              "      <td>3000.000000</td>\n",
              "      <td>3000.000000</td>\n",
              "      <td>3000.00000</td>\n",
              "      <td>3000.000000</td>\n",
              "      <td>3000.00000</td>\n",
              "    </tr>\n",
              "    <tr>\n",
              "      <th>mean</th>\n",
              "      <td>-119.589200</td>\n",
              "      <td>35.63539</td>\n",
              "      <td>28.845333</td>\n",
              "      <td>2599.578667</td>\n",
              "      <td>529.950667</td>\n",
              "      <td>1402.798667</td>\n",
              "      <td>489.91200</td>\n",
              "      <td>3.807272</td>\n",
              "      <td>205846.27500</td>\n",
              "    </tr>\n",
              "    <tr>\n",
              "      <th>std</th>\n",
              "      <td>1.994936</td>\n",
              "      <td>2.12967</td>\n",
              "      <td>12.555396</td>\n",
              "      <td>2155.593332</td>\n",
              "      <td>415.654368</td>\n",
              "      <td>1030.543012</td>\n",
              "      <td>365.42271</td>\n",
              "      <td>1.854512</td>\n",
              "      <td>113119.68747</td>\n",
              "    </tr>\n",
              "    <tr>\n",
              "      <th>min</th>\n",
              "      <td>-124.180000</td>\n",
              "      <td>32.56000</td>\n",
              "      <td>1.000000</td>\n",
              "      <td>6.000000</td>\n",
              "      <td>2.000000</td>\n",
              "      <td>5.000000</td>\n",
              "      <td>2.00000</td>\n",
              "      <td>0.499900</td>\n",
              "      <td>22500.00000</td>\n",
              "    </tr>\n",
              "    <tr>\n",
              "      <th>25%</th>\n",
              "      <td>-121.810000</td>\n",
              "      <td>33.93000</td>\n",
              "      <td>18.000000</td>\n",
              "      <td>1401.000000</td>\n",
              "      <td>291.000000</td>\n",
              "      <td>780.000000</td>\n",
              "      <td>273.00000</td>\n",
              "      <td>2.544000</td>\n",
              "      <td>121200.00000</td>\n",
              "    </tr>\n",
              "    <tr>\n",
              "      <th>50%</th>\n",
              "      <td>-118.485000</td>\n",
              "      <td>34.27000</td>\n",
              "      <td>29.000000</td>\n",
              "      <td>2106.000000</td>\n",
              "      <td>437.000000</td>\n",
              "      <td>1155.000000</td>\n",
              "      <td>409.50000</td>\n",
              "      <td>3.487150</td>\n",
              "      <td>177650.00000</td>\n",
              "    </tr>\n",
              "    <tr>\n",
              "      <th>75%</th>\n",
              "      <td>-118.020000</td>\n",
              "      <td>37.69000</td>\n",
              "      <td>37.000000</td>\n",
              "      <td>3129.000000</td>\n",
              "      <td>636.000000</td>\n",
              "      <td>1742.750000</td>\n",
              "      <td>597.25000</td>\n",
              "      <td>4.656475</td>\n",
              "      <td>263975.00000</td>\n",
              "    </tr>\n",
              "    <tr>\n",
              "      <th>max</th>\n",
              "      <td>-114.490000</td>\n",
              "      <td>41.92000</td>\n",
              "      <td>52.000000</td>\n",
              "      <td>30450.000000</td>\n",
              "      <td>5419.000000</td>\n",
              "      <td>11935.000000</td>\n",
              "      <td>4930.00000</td>\n",
              "      <td>15.000100</td>\n",
              "      <td>500001.00000</td>\n",
              "    </tr>\n",
              "  </tbody>\n",
              "</table>\n",
              "</div>\n",
              "      <button class=\"colab-df-convert\" onclick=\"convertToInteractive('df-591a385b-e2de-4637-a859-0697ff6a04ce')\"\n",
              "              title=\"Convert this dataframe to an interactive table.\"\n",
              "              style=\"display:none;\">\n",
              "        \n",
              "  <svg xmlns=\"http://www.w3.org/2000/svg\" height=\"24px\"viewBox=\"0 0 24 24\"\n",
              "       width=\"24px\">\n",
              "    <path d=\"M0 0h24v24H0V0z\" fill=\"none\"/>\n",
              "    <path d=\"M18.56 5.44l.94 2.06.94-2.06 2.06-.94-2.06-.94-.94-2.06-.94 2.06-2.06.94zm-11 1L8.5 8.5l.94-2.06 2.06-.94-2.06-.94L8.5 2.5l-.94 2.06-2.06.94zm10 10l.94 2.06.94-2.06 2.06-.94-2.06-.94-.94-2.06-.94 2.06-2.06.94z\"/><path d=\"M17.41 7.96l-1.37-1.37c-.4-.4-.92-.59-1.43-.59-.52 0-1.04.2-1.43.59L10.3 9.45l-7.72 7.72c-.78.78-.78 2.05 0 2.83L4 21.41c.39.39.9.59 1.41.59.51 0 1.02-.2 1.41-.59l7.78-7.78 2.81-2.81c.8-.78.8-2.07 0-2.86zM5.41 20L4 18.59l7.72-7.72 1.47 1.35L5.41 20z\"/>\n",
              "  </svg>\n",
              "      </button>\n",
              "      \n",
              "  <style>\n",
              "    .colab-df-container {\n",
              "      display:flex;\n",
              "      flex-wrap:wrap;\n",
              "      gap: 12px;\n",
              "    }\n",
              "\n",
              "    .colab-df-convert {\n",
              "      background-color: #E8F0FE;\n",
              "      border: none;\n",
              "      border-radius: 50%;\n",
              "      cursor: pointer;\n",
              "      display: none;\n",
              "      fill: #1967D2;\n",
              "      height: 32px;\n",
              "      padding: 0 0 0 0;\n",
              "      width: 32px;\n",
              "    }\n",
              "\n",
              "    .colab-df-convert:hover {\n",
              "      background-color: #E2EBFA;\n",
              "      box-shadow: 0px 1px 2px rgba(60, 64, 67, 0.3), 0px 1px 3px 1px rgba(60, 64, 67, 0.15);\n",
              "      fill: #174EA6;\n",
              "    }\n",
              "\n",
              "    [theme=dark] .colab-df-convert {\n",
              "      background-color: #3B4455;\n",
              "      fill: #D2E3FC;\n",
              "    }\n",
              "\n",
              "    [theme=dark] .colab-df-convert:hover {\n",
              "      background-color: #434B5C;\n",
              "      box-shadow: 0px 1px 3px 1px rgba(0, 0, 0, 0.15);\n",
              "      filter: drop-shadow(0px 1px 2px rgba(0, 0, 0, 0.3));\n",
              "      fill: #FFFFFF;\n",
              "    }\n",
              "  </style>\n",
              "\n",
              "      <script>\n",
              "        const buttonEl =\n",
              "          document.querySelector('#df-591a385b-e2de-4637-a859-0697ff6a04ce button.colab-df-convert');\n",
              "        buttonEl.style.display =\n",
              "          google.colab.kernel.accessAllowed ? 'block' : 'none';\n",
              "\n",
              "        async function convertToInteractive(key) {\n",
              "          const element = document.querySelector('#df-591a385b-e2de-4637-a859-0697ff6a04ce');\n",
              "          const dataTable =\n",
              "            await google.colab.kernel.invokeFunction('convertToInteractive',\n",
              "                                                     [key], {});\n",
              "          if (!dataTable) return;\n",
              "\n",
              "          const docLinkHtml = 'Like what you see? Visit the ' +\n",
              "            '<a target=\"_blank\" href=https://colab.research.google.com/notebooks/data_table.ipynb>data table notebook</a>'\n",
              "            + ' to learn more about interactive tables.';\n",
              "          element.innerHTML = '';\n",
              "          dataTable['output_type'] = 'display_data';\n",
              "          await google.colab.output.renderOutput(dataTable, element);\n",
              "          const docLink = document.createElement('div');\n",
              "          docLink.innerHTML = docLinkHtml;\n",
              "          element.appendChild(docLink);\n",
              "        }\n",
              "      </script>\n",
              "    </div>\n",
              "  </div>\n",
              "  "
            ]
          },
          "metadata": {},
          "execution_count": 130
        }
      ]
    },
    {
      "cell_type": "code",
      "source": [
        "dataset_cond = pd.DataFrame(dataset)[pd.DataFrame(dataset)['total_bedrooms'] > 310]\n",
        "print(dataset_cond)"
      ],
      "metadata": {
        "colab": {
          "base_uri": "https://localhost:8080/"
        },
        "id": "fRfxazWCEcbd",
        "outputId": "7134062f-4f87-48e1-e866-b74fe8b3b8aa"
      },
      "execution_count": 127,
      "outputs": [
        {
          "output_type": "stream",
          "name": "stdout",
          "text": [
            "      longitude  latitude  housing_median_age  total_rooms  total_bedrooms  \\\n",
            "0       -122.05     37.37                27.0       3885.0           661.0   \n",
            "2       -117.81     33.78                27.0       3589.0           507.0   \n",
            "7       -120.65     35.48                19.0       2310.0           471.0   \n",
            "8       -122.84     38.40                15.0       3080.0           617.0   \n",
            "9       -118.02     34.08                31.0       2402.0           632.0   \n",
            "...         ...       ...                 ...          ...             ...   \n",
            "2990    -118.23     34.09                49.0       1638.0           456.0   \n",
            "2991    -117.17     34.28                13.0       4867.0           718.0   \n",
            "2993    -117.91     33.60                37.0       2088.0           510.0   \n",
            "2995    -119.86     34.42                23.0       1450.0           642.0   \n",
            "2996    -118.14     34.06                27.0       5257.0          1082.0   \n",
            "\n",
            "      population  households  median_income  median_house_value  \n",
            "0         1537.0       606.0         6.6085            344700.0  \n",
            "2         1484.0       495.0         5.7934            270500.0  \n",
            "7         1341.0       441.0         3.2250            166900.0  \n",
            "8         1446.0       599.0         3.6696            194400.0  \n",
            "9         2830.0       603.0         2.3333            164200.0  \n",
            "...          ...         ...            ...                 ...  \n",
            "2990      1500.0       430.0         2.6923            150000.0  \n",
            "2991       780.0       250.0         7.1997            253800.0  \n",
            "2993       673.0       390.0         5.1048            500001.0  \n",
            "2995      1258.0       607.0         1.1790            225000.0  \n",
            "2996      3496.0      1036.0         3.3906            237200.0  \n",
            "\n",
            "[2135 rows x 9 columns]\n"
          ]
        }
      ]
    },
    {
      "cell_type": "code",
      "source": [
        "DF = pd.DataFrame(dataset)\n",
        "DF = DF.head(-1)\n",
        "DF = DF.tail(-1)\n",
        "print(DF)"
      ],
      "metadata": {
        "colab": {
          "base_uri": "https://localhost:8080/"
        },
        "id": "pQo6UP29Hybd",
        "outputId": "1fe74694-cc54-40dd-b341-11855a6622c9"
      },
      "execution_count": 140,
      "outputs": [
        {
          "output_type": "stream",
          "name": "stdout",
          "text": [
            "      longitude  latitude  housing_median_age  total_rooms  total_bedrooms  \\\n",
            "1       -118.30     34.26                43.0       1510.0           310.0   \n",
            "2       -117.81     33.78                27.0       3589.0           507.0   \n",
            "3       -118.36     33.82                28.0         67.0            15.0   \n",
            "4       -119.67     36.33                19.0       1241.0           244.0   \n",
            "5       -119.56     36.51                37.0       1018.0           213.0   \n",
            "...         ...       ...                 ...          ...             ...   \n",
            "2994    -117.93     33.86                35.0        931.0           181.0   \n",
            "2995    -119.86     34.42                23.0       1450.0           642.0   \n",
            "2996    -118.14     34.06                27.0       5257.0          1082.0   \n",
            "2997    -119.70     36.30                10.0        956.0           201.0   \n",
            "2998    -117.12     34.10                40.0         96.0            14.0   \n",
            "\n",
            "      population  households  median_income  median_house_value  \n",
            "1          809.0       277.0         3.5990            176500.0  \n",
            "2         1484.0       495.0         5.7934            270500.0  \n",
            "3           49.0        11.0         6.1359            330000.0  \n",
            "4          850.0       237.0         2.9375             81700.0  \n",
            "5          663.0       204.0         1.6635             67000.0  \n",
            "...          ...         ...            ...                 ...  \n",
            "2994       516.0       174.0         5.5867            182500.0  \n",
            "2995      1258.0       607.0         1.1790            225000.0  \n",
            "2996      3496.0      1036.0         3.3906            237200.0  \n",
            "2997       693.0       220.0         2.2895             62000.0  \n",
            "2998        46.0        14.0         3.2708            162500.0  \n",
            "\n",
            "[2998 rows x 9 columns]\n"
          ]
        }
      ]
    },
    {
      "cell_type": "code",
      "source": [
        "DF.isnull().values.any()"
      ],
      "metadata": {
        "colab": {
          "base_uri": "https://localhost:8080/"
        },
        "id": "WR1IylccKtgi",
        "outputId": "0e71c57f-bcc9-428f-bf97-7cb40a4a48ed"
      },
      "execution_count": 141,
      "outputs": [
        {
          "output_type": "execute_result",
          "data": {
            "text/plain": [
              "False"
            ]
          },
          "metadata": {},
          "execution_count": 141
        }
      ]
    },
    {
      "cell_type": "code",
      "source": [
        "import matplotlib.pyplot as plt\n",
        "DF.plot(x=1, y=0)"
      ],
      "metadata": {
        "colab": {
          "base_uri": "https://localhost:8080/",
          "height": 296
        },
        "id": "w8gvMQy0MsSF",
        "outputId": "5edd054d-16ff-4a54-9a19-163d66d3ca43"
      },
      "execution_count": 155,
      "outputs": [
        {
          "output_type": "execute_result",
          "data": {
            "text/plain": [
              "<matplotlib.axes._subplots.AxesSubplot at 0x7fd7febcd850>"
            ]
          },
          "metadata": {},
          "execution_count": 155
        },
        {
          "output_type": "display_data",
          "data": {
            "text/plain": [
              "<Figure size 432x288 with 1 Axes>"
            ],
            "image/png": "[encoded data removed]"
          },
          "metadata": {
            "needs_background": "light"
          }
        }
      ]
    }
  ]
}